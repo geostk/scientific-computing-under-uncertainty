{
 "metadata": {
  "name": "",
  "signature": "sha256:63432370b247cae641a01e2d7359c206314565da75ef9e8e256cb969b1dfb587"
 },
 "nbformat": 3,
 "nbformat_minor": 0,
 "worksheets": [
  {
   "cells": [
    {
     "cell_type": "heading",
     "level": 1,
     "metadata": {},
     "source": [
      "Linear Algebra for Machine Learning"
     ]
    },
    {
     "cell_type": "markdown",
     "metadata": {},
     "source": [
      "$% DEFINITIONS\n",
      "\\newcommand{\\bv}{\\mathbf{v}}\n",
      "\\newcommand{\\bx}{\\mathbf{x}}\n",
      "\\newcommand{\\by}{\\mathbf{y}}\n",
      "\\newcommand{\\bz}{\\mathbf{z}}\n",
      "\\newcommand{\\bA}{\\mathbf{A}}\n",
      "\\newcommand{\\bB}{\\mathbf{B}}\n",
      "\\newcommand{\\bC}{\\mathbf{C}}\n",
      "\\newcommand{\\bD}{\\mathbf{D}}\n",
      "\\newcommand{\\bI}{\\mathbf{I}}\n",
      "\\newcommand{\\bL}{\\mathbf{L}}\n",
      "\\newcommand{\\bM}{\\mathbf{M}}\n",
      "\\newcommand{\\bLambda}{\\boldsymbol{\\Lambda}}\n",
      "\\newcommand{\\bSigma}{\\boldsymbol{\\Sigma}}\n",
      "\\newcommand{\\bmu}{\\boldsymbol{\\mu}}\n",
      "\\newcommand{\\calN}{\\mathcal{N}}\n",
      "\\newcommand{\\R}{\\mathbb{R}}\n",
      "\\newcommand{\\E}{\\mathbb{E}}\n",
      "\\newcommand{\\C}{\\mathbb{C}}\n",
      "\\newcommand{\\Rd}{\\R^d}\n",
      "\\newcommand{\\Rdd}{\\R^{d\\times d}}\n",
      "\\newcommand{\\bzero}{\\mathbf{0}}\n",
      "% END OF DEFINITIONS\n",
      "$\n",
      "In this section we review some of the linear algebra that is required for machine learning applications."
     ]
    },
    {
     "cell_type": "heading",
     "level": 2,
     "metadata": {},
     "source": [
      "Positive-definite matrices"
     ]
    },
    {
     "cell_type": "markdown",
     "metadata": {},
     "source": [
      "Positive-definite matrices occur in many machine learning settings.\n",
      "As a matter of fact the most common probability density used in applications, the multivariate\n",
      "Gaussian, contains a positive-definite matrix in which formulation.\n",
      "This matrix known as the *covariance matrix*.\n",
      "In this section, we study some of the most important properties of positive-definite matrices.\n",
      "\n",
      "#### Definition 1 (positive-definite matrix).\n",
      "A matrix $\\bA\\in\\R^{n\\times n}$ is *positive-definite* if for any $\\bx\\in\\R^n, \\bx\\not=\\bzero$, we\n",
      "have:\n",
      "$$\n",
      "\\bx^T\\bA\\bx > 0.\n",
      "$$\n",
      "\n",
      "The following proposition is of extreme importance.\n",
      "\n",
      "### Proposition 1.\n",
      "If $\\bA\\in\\R^{n\\times n}$ is positive definite, then all its eigenvalues are real and positive.\n",
      "In addition, eigevectors corresponding to different eigenvalues are orthogonal.\n",
      "#### Proof\n",
      "*\n",
      "We first show that all the eigenvalues are positive.\n",
      "Let $\\lambda$ and $\\bv$ be an eigenvalue and an eigenvector of $\\bA$, respectively.\n",
      "That is:\n",
      "$$\n",
      "\\bA \\bv = \\lambda \\bv.\n",
      "$$\n",
      "Multiplying with $\\bv^T$ from the right, we get:\n",
      "$$\n",
      "\\bv^T\\bA\\bv = \\lambda \\bv^T\\bv.\n",
      "$$\n",
      "Since $\\bv\\not=0$ and $\\bA$ is positive-definite, the left hand side is greater than zero.\n",
      "Therefore\n",
      "$$\n",
      "\\lambda \\bv^T\\bv > 0,\n",
      "$$\n",
      "which implies that\n",
      "$$\n",
      "\\lambda > 0.\n",
      "$$\n",
      "Now let $\\lambda_i$ and $\\bv_i$ for $i=1,2$ be two pairs of eigenvalues and eigenvectors of $\\bA$,\n",
      "respectively.\n",
      "That is:\n",
      "$$\n",
      "\\bA\\bv_i = \\lambda_i \\bv_i.\n",
      "$$\n",
      "In addition, assume that the eigenvalues are different, i.e., $\\lambda_1 \\not=\\lambda_2$.\n",
      "We will show that the eigenvectors are orthogonal, i.e.,\n",
      "$$\n",
      "\\bv_1^T\\bv_2 = 0.\n",
      "$$\n",
      "We have that:\n",
      "$$\n",
      "\\begin{eqnarray*}\n",
      "\\bv_1^T\\bA\\bv_2 &=& \\bv_2^T\\bA\\bv_1\\\\\n",
      "\\Rightarrow \\lambda_2\\bv_1^T\\bv_2 &=& \\lambda_1 \\bv_1^T\\bv_2\\\\\n",
      "\\Rightarrow (\\lambda_2 - \\lambda_1)\\bv_1^T\\bv_2 &=& 0,\n",
      "\\end{eqnarray*}\n",
      "$$\n",
      "which implies the desired result.\n",
      "*"
     ]
    },
    {
     "cell_type": "code",
     "collapsed": false,
     "input": [],
     "language": "python",
     "metadata": {},
     "outputs": []
    }
   ],
   "metadata": {}
  }
 ]
}