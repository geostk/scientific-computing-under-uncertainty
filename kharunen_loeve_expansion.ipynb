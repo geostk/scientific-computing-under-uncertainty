{
 "metadata": {
  "name": "",
  "signature": "sha256:a3e9fc3b1a30f023cbdaabd8b478df4fd4f6f1cc226d136067959dbf1787cec6"
 },
 "nbformat": 3,
 "nbformat_minor": 0,
 "worksheets": [
  {
   "cells": [
    {
     "cell_type": "heading",
     "level": 1,
     "metadata": {},
     "source": [
      "The Karhunen-Lo\u00e8ve Expansion"
     ]
    },
    {
     "cell_type": "markdown",
     "metadata": {},
     "source": [
      "$% DEFINITIONS\n",
      "\\newcommand{\\bff}{\\mathbf{f}}\n",
      "\\newcommand{\\bm}{\\mathbf{m}}\n",
      "\\newcommand{\\bk}{\\mathbf{k}}\n",
      "\\newcommand{\\bx}{\\mathbf{x}}\n",
      "\\newcommand{\\by}{\\mathbf{y}}\n",
      "\\newcommand{\\bz}{\\mathbf{z}}\n",
      "\\newcommand{\\bv}{\\mathbf{v}}\n",
      "\\newcommand{\\bA}{\\mathbf{A}}\n",
      "\\newcommand{\\bB}{\\mathbf{B}}\n",
      "\\newcommand{\\bC}{\\mathbf{C}}\n",
      "\\newcommand{\\bD}{\\mathbf{D}}\n",
      "\\newcommand{\\bI}{\\mathbf{I}}\n",
      "\\newcommand{\\bK}{\\mathbf{K}}\n",
      "\\newcommand{\\bL}{\\mathbf{L}}\n",
      "\\newcommand{\\bM}{\\mathbf{M}}\n",
      "\\newcommand{\\bX}{\\mathbf{X}}\n",
      "\\newcommand{\\bLambda}{\\boldsymbol{\\Lambda}}\n",
      "\\newcommand{\\bSigma}{\\boldsymbol{\\Sigma}}\n",
      "\\newcommand{\\bmu}{\\boldsymbol{\\mu}}\n",
      "\\newcommand{\\calN}{\\mathcal{N}}\n",
      "\\newcommand{\\R}{\\mathbb{R}}\n",
      "\\newcommand{\\E}{\\mathbb{E}}\n",
      "\\newcommand{\\C}{\\mathbb{C}}\n",
      "\\newcommand{\\Rd}{\\R^d}\n",
      "\\newcommand{\\Rdd}{\\R^{d\\times d}}\n",
      "\\newcommand{\\bzero}{\\mathbf{0}}\n",
      "\\newcommand{\\GP}{\\mbox{GP}}\n",
      "% END OF DEFINITIONS\n",
      "$\n",
      "Consider a Gaussian random field over a set $\\Omega \\subset \\R^d$:\n",
      "\\begin{equation}\n",
      "f(\\cdot) | m(\\cdot), k(\\cdot, \\cdot) \\sim \\GP\\left(f(\\cdot) | m(\\cdot), k(\\cdot, \\cdot) \\right),\n",
      "\\end{equation}\n",
      "where \n",
      "$m:\\Omega\\rightarrow R$ is the mean function and \n",
      "$k:\\Omega\\times\\Omega\\rightarrow\\R$ is the covariance function.\n",
      "The *Karhunen-Lo\u00e8ve expansion* (KLE) of $f(\\cdot)$ allows us to write it as:\n",
      "\\begin{equation}\n",
      "f(\\bx) = m(\\bx) + \\sum_{i=1}^{\\infty}\\xi_i \\sqrt{\\lambda_i} \\phi_i(\\bx),\n",
      "\\end{equation}\n",
      "where the random variables\n",
      "\\begin{equation}\n",
      "\\xi \\sim \\calN(\\xi|0, 1)\n",
      "\\end{equation}\n",
      "are independent, and $\\lambda_i$ and $\\phi_i(\\bx)$ are the eigenvalues and\n",
      "eigenvectors, respectively, of the covariance function, i.e.,\n",
      "\\begin{equation}\n",
      "\\int_{\\Omega} k(\\bx, \\bx') \\phi_i(\\bx')d\\bx' = \\lambda_i \\phi_i(\\bx').\n",
      "\\end{equation}\n",
      "Since $k(\\bx, \\bx')$ is actually positive definite, the eigenvalues are all positive\n",
      "and the eigenfunctions are orthogonal:\n",
      "$$\n",
      "\\int_{\\Omega} \\phi_i(\\bx)\\phi_j(\\bx')d\\bx = \\delta_{ij}.\n",
      "$$\n",
      "\n",
      "## Truncated KLE\n",
      "Usually, we truncate the KLE to a finite order $M$, i.e., we write\n",
      "\\begin{equation}\n",
      "f(\\bx) \\approx f_M(\\bx) = m(\\bx) + \\sum_{i=1}^M \\xi_i \\sqrt{\\lambda_i}\\phi_i(\\bx).\n",
      "\\end{equation}\n",
      "But how do we pick $M$ in practice?\n",
      "\n",
      "In order to answer this question, notice that the variance of the field at the point $\\bx$ is given by:\n",
      "$$\n",
      "\\mathbb{V}[f(\\bx)] = \\sum_{i=1}^{\\infty}\\lambda_i\\phi_i^2(\\bx)\n",
      "$$\n",
      "The *energy* of the field, $\\mathcal{E}[f(\\cdot)]$ is defined to be:\n",
      "\\begin{equation}\n",
      "\\mathcal{E}[f(\\cdot)] := \\int_{\\Omega}\\mathbb{V}[f(\\bx)]d\\bx = \\sum_{i=1}^\\infty \\lambda_i,\n",
      "\\end{equation}\n",
      "where we have used the orthonormality of the $\\phi(\\bx)$'s.\n",
      "The energy of the field is a measure of the total variance of the field.\n",
      "The idea is to select $M$ so that the energy of the truncated field $f_M(\\bx)$ is as\n",
      "captures a percentage $\\alpha$ of the energy of the original field.\n",
      "That is, we pick $M$ so that\n",
      "$$\n",
      "\\mathcal{E}[f_M(\\cdot)] = \\alpha\\mathcal{E}[f(\\cdot)],\n",
      "$$\n",
      "or\n",
      "$$\n",
      "\\sum_{i=1}^M\\lambda_i = \\alpha \\sum_{i=1}^\\infty \\lambda_i.\n",
      "$$\n",
      "Typically, $\\alpha = 0.95$.\n",
      "\n",
      "## Why is this useful?\n",
      "The KLE allows us to reduce the dimensionality of random fields.\n",
      "This is extremely useful in uncertainty propagation and model calibration tasks.\n",
      "For example, in uncertainty propagation, by employing the KLE one has to deal with\n",
      "a finite set of Gaussian random variables $\\xi_i$ instead of an infinitely dimensional\n",
      "Gaussian random field.\n",
      "\n",
      "## Numerical computation of KLE\n",
      "Solving the integral equation for the eigenvalues and eigenvectors of $k(\\bx,\\bx')$ is actually very difficult.\n",
      "Instead, one uses a quadrature rule on the space of $\\bx$, $\\{w_j, \\bx_j\\}_{j=1}^N$,\n",
      "and approximates the left hand side of the integral equation as follows:\n",
      "$$\n",
      "\\sum_{j=1}^N w_j k(\\bx, \\bx_j)\\phi_i(\\bx_j) = \\lambda_i \\phi_i(\\bx).\n",
      "$$\n",
      "From this, we see that we can express the eigenfunctions as:\n",
      "$$\n",
      "\\phi_i(\\bx) = \\lambda_i^{-1}\\sum_{j=1}^Nw_jk(\\bx, \\bx_j)\\phi_i(\\bx_j),\n",
      "$$\n",
      "if we new the eigenvalues, as well as their values of the quadrature points.\n",
      "\n",
      "In order to approximate $\\lambda_i$ and $\\phi_i(\\bx_j)$, we consider the following finite dimensional eigenvalue\n",
      "problem:\n",
      "$$\n",
      "\\sum_{j=1}^N w_j k(\\bx_i, \\bx_j) v_j = \\mu v_i,\n",
      "$$\n",
      "or in matrix form:\n",
      "$$\n",
      "\\bK \\mbox{diag}(w) \\bv = \\mu \\bv,\n",
      "$$\n",
      "where\n",
      "$$\n",
      "K_{ij} = k(\\bx_i, \\bx_j).\n",
      "$$\n",
      "Assuming that by solving it, we obtain the eigenvalues $\\mu_i$ and the eigenvectors\n",
      "$\\bv_i$ for $i=1,\\dots,N$, we estimate that:\n",
      "$$\n",
      "\\lambda_i \\approx \\mu_i,\\;\\mbox{for}\\;$i=1,\\dots,N$,\n",
      "$$\n",
      "$$\n",
      "\\lambda_i \\approx 0,\\;\\mbox{for}\\;$i>N$,\n",
      "$$\n",
      "and\n",
      "$$\n",
      "\\phi_i(\\bx_j) = v_{ij},\n",
      "$$\n",
      "for $i,j=1,\\dots,N$.\n",
      "Returning back to the full eigenfunctions, we see that they can be expressed as:\n",
      "$$\n",
      "\\phi_i(\\bx) = \\mu^{-1}_i\\sum_{j=1}^{N}v_{ij} w_j k(\\bx_j, \\bx),\n",
      "$$\n",
      "for $i=1,\\dots,N$.\n",
      "\n",
      "The most common choice of quadrature points is to pick $w_i = \\frac{1}{N}$ and\n",
      "$\\bx_i$ to be either random or on a grid. We will try a few."
     ]
    },
    {
     "cell_type": "heading",
     "level": 2,
     "metadata": {},
     "source": [
      "Example 1: 1D finite domain"
     ]
    },
    {
     "cell_type": "markdown",
     "metadata": {},
     "source": [
      "Let us assume that $d=1$, and that we are working with the \n",
      "Let us take the square exponential covariance function:\n",
      "$$\n",
      "k(x, x') = s^2 \\exp\\left\\{-\\frac{(x-x')^2}{2\\ell^2} \\right\\}\n",
      "$$\n",
      "on a bounded domain $\\Omega = [-1,1]$.\n",
      "\n",
      "Let us import a few things from the Gaussian process notebook:"
     ]
    },
    {
     "cell_type": "code",
     "collapsed": false,
     "input": [
      "# The square exponential covariance\n",
      "from gp import se_cov\n",
      "# The routine that computes the covariance matrix\n",
      "from gp import cov_mat\n",
      "# The routine that samples Gaussian random fields\n",
      "from gp import sample_gp"
     ],
     "language": "python",
     "metadata": {},
     "outputs": [],
     "prompt_number": 112
    },
    {
     "cell_type": "markdown",
     "metadata": {},
     "source": [
      "Now assume that we are given a quadrature rule $\\{w_i,\\bx_i\\}_{i=1}^N$ on $\\Omega$.\n",
      "We will compute the eigenvalues and eigenvectors $\\mu_i$ and $\\bv_i$:"
     ]
    },
    {
     "cell_type": "code",
     "collapsed": false,
     "input": [
      "import scipy.linalg\n",
      "\n",
      "\n",
      "def kle(X, w=None, cov_fun=se_cov, **cov_params):\n",
      "    \"\"\"\n",
      "    Evaluate the KLE of ``cov_func`` using the quadrature rule {w, X}.\n",
      "    \n",
      "    :param X:    2D numpy array of size N x d. The quadrature points.\n",
      "    :param w:    1D numpy array of weights of the quadrature rule. \n",
      "                 If ``None``, then it is just 1/N.\n",
      "    :param cov_func: The covariance function. Default is ``se_cov``.\n",
      "    \"\"\"\n",
      "    X = np.array(X)\n",
      "    assert X.ndim == 2\n",
      "    n, d = X.shape\n",
      "    # Compute covariance matrix:\n",
      "    K = cov_mat(X, cov_fun=cov_fun, **cov_params)\n",
      "    # Check w\n",
      "    if w is None:\n",
      "        w = np.ones((n, )) / n\n",
      "    else:\n",
      "        w = np.array(w)\n",
      "        assert w.shape[0] == n\n",
      "    # We need to solve this eigenproblem:\n",
      "    # K diag(w) v = mu v\n",
      "    mu, v = scipy.linalg.eigh(K, np.diag(w), type=2)\n",
      "    # Reverse the order\n",
      "    mu = mu[::-1]\n",
      "    v = v[:,::-1]\n",
      "    return mu, v"
     ],
     "language": "python",
     "metadata": {},
     "outputs": [],
     "prompt_number": 139
    },
    {
     "cell_type": "code",
     "collapsed": false,
     "input": [
      "import matplotlib.pyplot as plt\n",
      "import numpy as np\n",
      "n = 10\n",
      "# Compute mu and V with the Legendre quadrature\n",
      "X1, w1 = np.polynomial.legendre.leggauss(n)\n",
      "X1 = X1[:, None]\n",
      "mu1, V1 = kle(X1, w1, ell=0.1)\n",
      "# Compute mu and V with MC quadrature\n",
      "X2 = np.random.rand(n * 10) * 2. - 1.\n",
      "X2 = X2[:, None]\n",
      "mu2, V2 = kle(X2, ell=0.1)\n",
      "# Let's plot the eigenvalues\n",
      "index1 = np.arange(1, X1.shape[0] + 1)\n",
      "index2 = np.arange(1, X2.shape[0] + 1)\n",
      "plt.plot(index1, np.cumsum(mu1) / np.sum(mu1), 'ro--', markersize=10, linewidth=2, label='Legendre-Quadrature')\n",
      "plt.plot(index2, np.cumsum(mu2) / np.sum(mu2), 'b+:', markersize=10, markeredgewidth=2, linewidth=2, label='MC quadrature')\n",
      "plt.legend(loc='best', fontsize=16)\n",
      "plt.xlabel('$i$', fontsize=16)\n",
      "plt.ylabel('$\\mu_i$', fontsize=16)"
     ],
     "language": "python",
     "metadata": {},
     "outputs": [
      {
       "metadata": {},
       "output_type": "pyout",
       "prompt_number": 142,
       "text": [
        "<matplotlib.text.Text at 0x10b6055d0>"
       ]
      },
      {
       "metadata": {},
       "output_type": "display_data",
       "png": "[encoded data removed]",
       "text": [
        "<matplotlib.figure.Figure at 0x10b5f1c90>"
       ]
      }
     ],
     "prompt_number": 142
    },
    {
     "cell_type": "markdown",
     "metadata": {},
     "source": [
      "Now that we can compute $\\mu$ and $\\bv$, we can actually compute the $\\phi_i(\\bx)$.\n",
      "Actually, all we care about is the ability to evaluate them at any point.\n",
      "Here we go:"
     ]
    },
    {
     "cell_type": "code",
     "collapsed": false,
     "input": [
      "def phi(x, mu, V, X, w=None, cov_fun=se_cov, **cov_params):\n",
      "    \"\"\"\n",
      "    Evaluate the basis functions of the KLE at points x.\n",
      "    \n",
      "    :param x:     Points of evaluation, 2D array, n x d.\n",
      "    :param mu:    The eigenvalues we found with kle().\n",
      "    :param V:     The eigenvectors we found with kle().\n",
      "    :param X:     The quadrature points used for the construction of X and w.\n",
      "    :param cov_func:  The covariance function to be used.\n",
      "    \"\"\"\n",
      "    x = np.array(x)\n",
      "    X = np.array(X)\n",
      "    if w is None:\n",
      "        w = np.ones((X.shape[0],)) / X.shape[0]\n",
      "    else:\n",
      "        w = np.array(w)\n",
      "    w = w[:, None]\n",
      "    k = cov_mat(X, X2=x, **cov_params)\n",
      "    mu[mu <= 0.] = 1e-10\n",
      "    return np.dot(V, w * k) / mu[:, None]"
     ],
     "language": "python",
     "metadata": {},
     "outputs": [],
     "prompt_number": 145
    },
    {
     "cell_type": "markdown",
     "metadata": {},
     "source": [
      "Here is how these basis functions look:"
     ]
    },
    {
     "cell_type": "code",
     "collapsed": false,
     "input": [
      "x = np.linspace(-1, 1, 50)[:, None]\n",
      "p1 = phi(x, mu1, V1, X1, w=w1)\n",
      "p2 = phi(x, mu2, V2, X2)\n",
      "plt.plot(x, p1[0:1, :].T, 'r')\n",
      "plt.plot(x, p2[0:1, :].T, 'b')"
     ],
     "language": "python",
     "metadata": {},
     "outputs": [
      {
       "metadata": {},
       "output_type": "pyout",
       "prompt_number": 147,
       "text": [
        "[<matplotlib.lines.Line2D at 0x10b177690>]"
       ]
      },
      {
       "metadata": {},
       "output_type": "display_data",
       "png": "[encoded data removed]",
       "text": [
        "<matplotlib.figure.Figure at 0x10ba78350>"
       ]
      }
     ],
     "prompt_number": 147
    },
    {
     "cell_type": "code",
     "collapsed": false,
     "input": [],
     "language": "python",
     "metadata": {},
     "outputs": [],
     "prompt_number": 68
    },
    {
     "cell_type": "code",
     "collapsed": false,
     "input": [],
     "language": "python",
     "metadata": {},
     "outputs": []
    }
   ],
   "metadata": {}
  }
 ]
}